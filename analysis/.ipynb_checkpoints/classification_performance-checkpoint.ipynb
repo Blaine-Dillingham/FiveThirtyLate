{
 "cells": [
  {
   "cell_type": "markdown",
   "id": "61947b2a",
   "metadata": {},
   "source": [
    "This notebook looks at correct percent of elections winners predicted *for the test set*. "
   ]
  },
  {
   "cell_type": "code",
   "execution_count": 1,
   "id": "f6babdca",
   "metadata": {},
   "outputs": [],
   "source": [
    "from fastbook import *\n",
    "setup_book()\n",
    "\n",
    "import pandas as pd\n",
    "import numpy as np\n",
    "from pandas.api.types import is_string_dtype, is_numeric_dtype, is_categorical_dtype\n",
    "from fastai.tabular.all import *\n",
    "from sklearn.ensemble import RandomForestRegressor\n",
    "from sklearn.tree import DecisionTreeRegressor\n",
    "from dtreeviz.trees import *\n",
    "from IPython.display import Image, display_svg, SVG"
   ]
  },
  {
   "cell_type": "code",
   "execution_count": 2,
   "id": "6038ccbe",
   "metadata": {},
   "outputs": [],
   "source": [
    "def classif_accur(preds, y): \n",
    "    pred_margins = preds - 0.500\n",
    "    pred_repub_wins = np.array([1 if x>0 else 0 for x in pred_margins])\n",
    "    \n",
    "    margins = np.array(y - 0.500)\n",
    "    repub_wins = np.array([1 if x>0 else 0 for x in margins])\n",
    "    correct = repub_wins==pred_repub_wins\n",
    "\n",
    "    return sum(correct)/len(correct)"
   ]
  },
  {
   "cell_type": "code",
   "execution_count": 3,
   "id": "17333d7c",
   "metadata": {},
   "outputs": [],
   "source": [
    "test_set = load_pickle('..\\\\prepared_data\\\\prepared_test_set_v1.pkl')"
   ]
  },
  {
   "cell_type": "markdown",
   "id": "6505afb4",
   "metadata": {},
   "source": [
    "<font size = 6> Decision Tree </font>"
   ]
  },
  {
   "cell_type": "code",
   "execution_count": 4,
   "id": "6da146e9",
   "metadata": {},
   "outputs": [],
   "source": [
    "best_tree = load_pickle('trained_models\\\\dtree_best.pkl')"
   ]
  },
  {
   "cell_type": "code",
   "execution_count": 5,
   "id": "21fc66bc",
   "metadata": {},
   "outputs": [
    {
     "data": {
      "text/plain": [
       "0.6989247311827957"
      ]
     },
     "execution_count": 5,
     "metadata": {},
     "output_type": "execute_result"
    }
   ],
   "source": [
    "classif_accur(best_tree.predict(test_set.train.xs), test_set.train.y)"
   ]
  },
  {
   "cell_type": "markdown",
   "id": "8933f3f5",
   "metadata": {},
   "source": [
    "<font size = 6> Random Forest </font>"
   ]
  },
  {
   "cell_type": "code",
   "execution_count": 6,
   "id": "6af7b3d2",
   "metadata": {},
   "outputs": [],
   "source": [
    "best_rf = load_pickle('trained_models\\\\rf_best.pkl')"
   ]
  },
  {
   "cell_type": "code",
   "execution_count": 7,
   "id": "421590bc",
   "metadata": {},
   "outputs": [
    {
     "data": {
      "text/plain": [
       "0.8817204301075269"
      ]
     },
     "execution_count": 7,
     "metadata": {},
     "output_type": "execute_result"
    }
   ],
   "source": [
    "classif_accur(best_rf.predict(test_set.train.xs), test_set.train.y)"
   ]
  },
  {
   "cell_type": "markdown",
   "id": "4ca2e0f6",
   "metadata": {},
   "source": [
    "<font size =6 > Neural Net</font>"
   ]
  },
  {
   "cell_type": "code",
   "execution_count": 8,
   "id": "0c172c06",
   "metadata": {},
   "outputs": [],
   "source": [
    "dl = load_pickle('..\\\\prepared_data\\\\dataloader_for_inference_neural_net.pkl')"
   ]
  },
  {
   "cell_type": "code",
   "execution_count": 9,
   "id": "7de486cc",
   "metadata": {},
   "outputs": [],
   "source": [
    "best_net = load_pickle('trained_models\\\\0.076_error_neural_net.pkl')"
   ]
  },
  {
   "cell_type": "code",
   "execution_count": 10,
   "id": "cbf13c9a",
   "metadata": {},
   "outputs": [
    {
     "data": {
      "text/html": [
       "\n",
       "<style>\n",
       "    /* Turns off some styling */\n",
       "    progress {\n",
       "        /* gets rid of default border in Firefox and Opera. */\n",
       "        border: none;\n",
       "        /* Needs to be in here for Safari polyfill so background images work as expected. */\n",
       "        background-size: auto;\n",
       "    }\n",
       "    progress:not([value]), progress:not([value])::-webkit-progress-bar {\n",
       "        background: repeating-linear-gradient(45deg, #7e7e7e, #7e7e7e 10px, #5c5c5c 10px, #5c5c5c 20px);\n",
       "    }\n",
       "    .progress-bar-interrupted, .progress-bar-interrupted::-webkit-progress-bar {\n",
       "        background: #F44336;\n",
       "    }\n",
       "</style>\n"
      ],
      "text/plain": [
       "<IPython.core.display.HTML object>"
      ]
     },
     "metadata": {},
     "output_type": "display_data"
    },
    {
     "data": {
      "text/html": [],
      "text/plain": [
       "<IPython.core.display.HTML object>"
      ]
     },
     "metadata": {},
     "output_type": "display_data"
    },
    {
     "data": {
      "text/plain": [
       "(tensor([[0.6514],\n",
       "         [0.7046],\n",
       "         [0.5391],\n",
       "         [0.6174],\n",
       "         [0.4523],\n",
       "         [0.3538],\n",
       "         [0.4022],\n",
       "         [0.3037],\n",
       "         [0.5078],\n",
       "         [0.2187],\n",
       "         [0.6330],\n",
       "         [0.4019],\n",
       "         [0.4555],\n",
       "         [0.5203],\n",
       "         [0.6180],\n",
       "         [0.3528],\n",
       "         [0.4015],\n",
       "         [0.4716],\n",
       "         [0.4219],\n",
       "         [0.4205],\n",
       "         [0.3375],\n",
       "         [0.4455],\n",
       "         [0.5928],\n",
       "         [0.5222],\n",
       "         [0.5843],\n",
       "         [0.4074],\n",
       "         [0.3607],\n",
       "         [0.5008],\n",
       "         [0.5213],\n",
       "         [0.7322],\n",
       "         [0.2724],\n",
       "         [0.4134],\n",
       "         [0.3616],\n",
       "         [0.2449],\n",
       "         [0.4350],\n",
       "         [0.2553],\n",
       "         [0.2739],\n",
       "         [0.3120],\n",
       "         [0.3561],\n",
       "         [0.1988],\n",
       "         [0.3913],\n",
       "         [0.3266],\n",
       "         [0.2652],\n",
       "         [0.3357],\n",
       "         [0.3130],\n",
       "         [0.5781],\n",
       "         [0.2038],\n",
       "         [0.1986],\n",
       "         [0.5201],\n",
       "         [0.3552],\n",
       "         [0.3743],\n",
       "         [0.3106],\n",
       "         [0.3802],\n",
       "         [0.2509],\n",
       "         [0.4420],\n",
       "         [0.3745],\n",
       "         [0.3573],\n",
       "         [0.4769],\n",
       "         [0.3461],\n",
       "         [0.6419],\n",
       "         [0.2716],\n",
       "         [0.3134],\n",
       "         [0.3793],\n",
       "         [0.6485],\n",
       "         [0.7104],\n",
       "         [0.5797],\n",
       "         [0.4792],\n",
       "         [0.3050],\n",
       "         [0.5974],\n",
       "         [0.6907],\n",
       "         [0.3335],\n",
       "         [0.5519],\n",
       "         [0.6089],\n",
       "         [0.6260],\n",
       "         [0.4278],\n",
       "         [0.2368],\n",
       "         [0.3198],\n",
       "         [0.4615],\n",
       "         [0.5754],\n",
       "         [0.5779],\n",
       "         [0.5720],\n",
       "         [0.4004],\n",
       "         [0.4499],\n",
       "         [0.4201],\n",
       "         [0.4896],\n",
       "         [0.6745],\n",
       "         [0.4396],\n",
       "         [0.1986],\n",
       "         [0.5673],\n",
       "         [0.6700],\n",
       "         [0.5972],\n",
       "         [0.3117],\n",
       "         [0.7242]]),\n",
       " tensor([[0.6407],\n",
       "         [0.7924],\n",
       "         [0.5686],\n",
       "         [0.6230],\n",
       "         [0.3840],\n",
       "         [0.4700],\n",
       "         [0.3751],\n",
       "         [0.5398],\n",
       "         [0.5718],\n",
       "         [0.2321],\n",
       "         [0.7046],\n",
       "         [0.4203],\n",
       "         [0.5513],\n",
       "         [0.6276],\n",
       "         [0.6585],\n",
       "         [0.5727],\n",
       "         [0.3694],\n",
       "         [0.5146],\n",
       "         [0.4868],\n",
       "         [0.4993],\n",
       "         [0.2649],\n",
       "         [0.5295],\n",
       "         [0.8222],\n",
       "         [0.6096],\n",
       "         [0.7338],\n",
       "         [0.3707],\n",
       "         [0.5075],\n",
       "         [0.6380],\n",
       "         [0.7183],\n",
       "         [0.7158],\n",
       "         [0.3503],\n",
       "         [0.4099],\n",
       "         [0.5173],\n",
       "         [0.4880],\n",
       "         [0.5416],\n",
       "         [0.4093],\n",
       "         [0.3868],\n",
       "         [0.5006],\n",
       "         [0.2885],\n",
       "         [0.5308],\n",
       "         [0.7713],\n",
       "         [0.3185],\n",
       "         [0.3748],\n",
       "         [0.4668],\n",
       "         [0.3752],\n",
       "         [0.5971],\n",
       "         [0.5300],\n",
       "         [0.4817],\n",
       "         [0.5990],\n",
       "         [0.4738],\n",
       "         [0.4423],\n",
       "         [0.3608],\n",
       "         [0.3154],\n",
       "         [0.5545],\n",
       "         [0.4658],\n",
       "         [0.4346],\n",
       "         [0.3842],\n",
       "         [0.5547],\n",
       "         [0.5129],\n",
       "         [0.6694],\n",
       "         [0.4184],\n",
       "         [0.4157],\n",
       "         [0.4458],\n",
       "         [0.6899],\n",
       "         [0.6020],\n",
       "         [0.5668],\n",
       "         [0.4523],\n",
       "         [0.3893],\n",
       "         [0.5091],\n",
       "         [0.6532],\n",
       "         [0.4144],\n",
       "         [0.5340],\n",
       "         [0.5602],\n",
       "         [0.6017],\n",
       "         [0.5460],\n",
       "         [0.3331],\n",
       "         [0.4914],\n",
       "         [0.4716],\n",
       "         [0.5508],\n",
       "         [0.5501],\n",
       "         [0.7198],\n",
       "         [0.4199],\n",
       "         [0.4169],\n",
       "         [0.4686],\n",
       "         [0.5091],\n",
       "         [0.6576],\n",
       "         [0.4086],\n",
       "         [0.3341],\n",
       "         [0.5521],\n",
       "         [0.6389],\n",
       "         [0.5495],\n",
       "         [0.4395],\n",
       "         [0.7225]]))"
      ]
     },
     "execution_count": 10,
     "metadata": {},
     "output_type": "execute_result"
    }
   ],
   "source": [
    "preds = best_net.get_preds(dl=dl)\n",
    "preds"
   ]
  },
  {
   "cell_type": "code",
   "execution_count": 11,
   "id": "3e44ec71",
   "metadata": {},
   "outputs": [
    {
     "data": {
      "text/plain": [
       "array([0.6513767 , 0.70462936, 0.5391252 , 0.61739624, 0.45232403, 0.35376212, 0.40217584, 0.30367547, 0.5078317 , 0.21871078, 0.63302517, 0.40186068, 0.45549226, 0.5203176 , 0.61797386, 0.35282162,\n",
       "       0.4015405 , 0.47158697, 0.42189986, 0.42053625, 0.33745354, 0.44547978, 0.5928091 , 0.5222232 , 0.5842919 , 0.40744928, 0.36066464, 0.50084466, 0.5212598 , 0.7322381 , 0.27241   , 0.41336808,\n",
       "       0.3616003 , 0.24487436, 0.43502995, 0.25529125, 0.27389446, 0.31199607, 0.3560731 , 0.19883034, 0.3912945 , 0.326615  , 0.2651628 , 0.3357056 , 0.31298262, 0.57812226, 0.20384504, 0.19857666,\n",
       "       0.52006865, 0.3551841 , 0.37429747, 0.31059903, 0.38022804, 0.25088358, 0.4420119 , 0.3745363 , 0.3572501 , 0.4768943 , 0.34610403, 0.6418643 , 0.2716401 , 0.31344572, 0.37929356, 0.6485191 ,\n",
       "       0.7104013 , 0.57973796, 0.47921863, 0.30504844, 0.59736043, 0.6907373 , 0.33354315, 0.55185384, 0.60885394, 0.62604606, 0.42779422, 0.2367594 , 0.3197729 , 0.461451  , 0.5753854 , 0.5779405 ,\n",
       "       0.5719651 , 0.40041712, 0.44992173, 0.42008406, 0.48959333, 0.67452765, 0.43962017, 0.19861685, 0.56728435, 0.66995215, 0.5971949 , 0.3117126 , 0.72423565], dtype=float32)"
      ]
     },
     "execution_count": 11,
     "metadata": {},
     "output_type": "execute_result"
    }
   ],
   "source": [
    "preds = np.array([pred for subarr in preds[0].numpy() for pred in subarr])\n",
    "preds"
   ]
  },
  {
   "cell_type": "code",
   "execution_count": 12,
   "id": "ee4b931f",
   "metadata": {
    "scrolled": true
   },
   "outputs": [
    {
     "data": {
      "text/plain": [
       "{'after_item': Pipeline: ,\n",
       " 'before_batch': Pipeline: ,\n",
       " 'after_batch': Pipeline: ReadTabBatch,\n",
       " '__stored_args__': {'dataset':     state_po  Repub%of_two-party_vote  Dem_cfscore  Repub_cfscore  \\\n",
       "  0          2                 0.640702     0.177173       0.020120   \n",
       "  1          1                 0.792370     0.177173      -1.614843   \n",
       "  2          4                 0.568609     0.177173      -0.440143   \n",
       "  3          3                 0.622993     0.177173      -0.131011   \n",
       "  4          5                 0.383972    -1.522357       0.076943   \n",
       "  ..       ...                      ...          ...            ...   \n",
       "  88        40                 0.552079     0.177173      -0.453882   \n",
       "  89        42                 0.638852     0.177173       0.076943   \n",
       "  90        43                 0.549495     0.177173       0.198730   \n",
       "  91        45                 0.439521     1.320969       0.076943   \n",
       "  92        49                 0.722461     0.177173      -1.175189   \n",
       "  \n",
       "      state enviro  Natl_enviro  Inflation  Natl_unempl  Dem_cfscore_na  \\\n",
       "  0       1.241112     0.286164  -1.769028    -0.556606               2   \n",
       "  1       1.023103     0.286164  -1.769028    -0.556606               2   \n",
       "  2       0.478080     0.286164  -1.769028    -0.556606               2   \n",
       "  3       1.241112     0.286164  -1.769028    -0.556606               2   \n",
       "  4      -1.265994     0.286164  -1.769028    -0.556606               1   \n",
       "  ..           ...          ...        ...          ...             ...   \n",
       "  88      1.459121    -0.365419  -1.804534     1.198616               2   \n",
       "  89      2.767177    -0.365419  -1.804534     1.198616               2   \n",
       "  90      1.568126    -0.365419  -1.804534     1.198616               2   \n",
       "  91     -1.047984    -0.365419  -1.804534     1.198616               1   \n",
       "  92      3.312200    -0.365419  -1.804534     1.198616               2   \n",
       "  \n",
       "      Repub_cfscore_na  \n",
       "  0                  1  \n",
       "  1                  1  \n",
       "  2                  1  \n",
       "  3                  1  \n",
       "  4                  2  \n",
       "  ..               ...  \n",
       "  88                 1  \n",
       "  89                 2  \n",
       "  90                 1  \n",
       "  91                 2  \n",
       "  92                 1  \n",
       "  \n",
       "  [93 rows x 10 columns],\n",
       "  'bs': 32,\n",
       "  'shuffle': False,\n",
       "  'drop_last': False,\n",
       "  'indexed': True,\n",
       "  'n': 93,\n",
       "  'pin_memory': False,\n",
       "  'timeout': 0,\n",
       "  'device': device(type='cpu')},\n",
       " 'dataset':     state_po  Repub%of_two-party_vote  Dem_cfscore  Repub_cfscore  \\\n",
       " 0          2                 0.640702     0.177173       0.020120   \n",
       " 1          1                 0.792370     0.177173      -1.614843   \n",
       " 2          4                 0.568609     0.177173      -0.440143   \n",
       " 3          3                 0.622993     0.177173      -0.131011   \n",
       " 4          5                 0.383972    -1.522357       0.076943   \n",
       " ..       ...                      ...          ...            ...   \n",
       " 88        40                 0.552079     0.177173      -0.453882   \n",
       " 89        42                 0.638852     0.177173       0.076943   \n",
       " 90        43                 0.549495     0.177173       0.198730   \n",
       " 91        45                 0.439521     1.320969       0.076943   \n",
       " 92        49                 0.722461     0.177173      -1.175189   \n",
       " \n",
       "     state enviro  Natl_enviro  Inflation  Natl_unempl  Dem_cfscore_na  \\\n",
       " 0       1.241112     0.286164  -1.769028    -0.556606               2   \n",
       " 1       1.023103     0.286164  -1.769028    -0.556606               2   \n",
       " 2       0.478080     0.286164  -1.769028    -0.556606               2   \n",
       " 3       1.241112     0.286164  -1.769028    -0.556606               2   \n",
       " 4      -1.265994     0.286164  -1.769028    -0.556606               1   \n",
       " ..           ...          ...        ...          ...             ...   \n",
       " 88      1.459121    -0.365419  -1.804534     1.198616               2   \n",
       " 89      2.767177    -0.365419  -1.804534     1.198616               2   \n",
       " 90      1.568126    -0.365419  -1.804534     1.198616               2   \n",
       " 91     -1.047984    -0.365419  -1.804534     1.198616               1   \n",
       " 92      3.312200    -0.365419  -1.804534     1.198616               2   \n",
       " \n",
       "     Repub_cfscore_na  \n",
       " 0                  1  \n",
       " 1                  1  \n",
       " 2                  1  \n",
       " 3                  1  \n",
       " 4                  2  \n",
       " ..               ...  \n",
       " 88                 1  \n",
       " 89                 2  \n",
       " 90                 1  \n",
       " 91                 2  \n",
       " 92                 1  \n",
       " \n",
       " [93 rows x 10 columns],\n",
       " 'bs': 32,\n",
       " 'shuffle': False,\n",
       " 'drop_last': False,\n",
       " 'indexed': True,\n",
       " 'n': 93,\n",
       " 'pin_memory': False,\n",
       " 'timeout': 0,\n",
       " 'device': device(type='cpu'),\n",
       " 'rng': <random.Random at 0x1bd3dc56c60>,\n",
       " 'num_workers': 1,\n",
       " 'offs': 0,\n",
       " 'fake_l': <fastai.data.load._FakeLoader at 0x1bd3fa81460>,\n",
       " '_n_inp': 2,\n",
       " '_types': {tuple: [torch.Tensor, torch.Tensor, torch.Tensor]}}"
      ]
     },
     "execution_count": 12,
     "metadata": {},
     "output_type": "execute_result"
    }
   ],
   "source": [
    "vars(dl)"
   ]
  },
  {
   "cell_type": "code",
   "execution_count": 13,
   "id": "eb2893b0",
   "metadata": {},
   "outputs": [
    {
     "data": {
      "text/plain": [
       "array([0.6407024 , 0.79237048, 0.56860915, 0.62299334, 0.38397188, 0.46995547, 0.37506846, 0.53980578, 0.57175417, 0.23206356, 0.70459902, 0.42032449, 0.55130669, 0.62760265, 0.65854281, 0.57274552,\n",
       "       0.36944741, 0.51460769, 0.4867684 , 0.49928206, 0.26488753, 0.5295356 , 0.82222304, 0.6096339 , 0.73375957, 0.37074179, 0.5074518 , 0.6379825 , 0.71827862, 0.71578547, 0.350267  , 0.4098699 ,\n",
       "       0.51733264, 0.48798521, 0.54163816, 0.40926667, 0.38680496, 0.50061259, 0.28848902, 0.53081452, 0.77130828, 0.31847168, 0.3748056 , 0.46681431, 0.37518267, 0.59706428, 0.52998317, 0.48171542,\n",
       "       0.59897514, 0.47376226, 0.44227795, 0.36081558, 0.31543232, 0.55452705, 0.46576329, 0.43457218, 0.38420263, 0.55468602, 0.51293741, 0.6693947 , 0.4184005 , 0.4156624 , 0.44581437, 0.68989095,\n",
       "       0.60196475, 0.56679518, 0.45228415, 0.38934997, 0.50910642, 0.65320814, 0.41435129, 0.53399623, 0.56018967, 0.60174271, 0.54603539, 0.33311847, 0.49141357, 0.47160271, 0.5507762 , 0.55012161,\n",
       "       0.71975878, 0.41985336, 0.4169243 , 0.46864382, 0.50913302, 0.65762511, 0.40862614, 0.33410075, 0.55207916, 0.63885173, 0.54949521, 0.43952086, 0.72246072])"
      ]
     },
     "execution_count": 13,
     "metadata": {},
     "output_type": "execute_result"
    }
   ],
   "source": [
    "nn_y = dl.__dict__['dataset']['Repub%of_two-party_vote']\n",
    "nn_y = np.array(nn_y)\n",
    "nn_y"
   ]
  },
  {
   "cell_type": "code",
   "execution_count": 17,
   "id": "43921022",
   "metadata": {},
   "outputs": [
    {
     "data": {
      "text/plain": [
       "0.8172043010752689"
      ]
     },
     "execution_count": 17,
     "metadata": {},
     "output_type": "execute_result"
    }
   ],
   "source": [
    "classif_accur(preds, nn_y)"
   ]
  },
  {
   "cell_type": "markdown",
   "id": "0a5dd695",
   "metadata": {},
   "source": [
    "<font size = 6> Ensemble</font>"
   ]
  },
  {
   "cell_type": "code",
   "execution_count": 21,
   "id": "5d779ac8",
   "metadata": {},
   "outputs": [],
   "source": [
    "rf_preds = best_rf.predict(test_set.train.xs)\n",
    "ens_preds = (preds + rf_preds) /2"
   ]
  },
  {
   "cell_type": "code",
   "execution_count": 22,
   "id": "2b38d8b4",
   "metadata": {},
   "outputs": [
    {
     "data": {
      "text/plain": [
       "array([0.65060439, 0.69310471, 0.60418249, 0.63361415, 0.41761972, 0.3754504 , 0.38334154, 0.46751687, 0.58552957, 0.28799736, 0.63767265, 0.37940751, 0.54890619, 0.46721904, 0.63390296, 0.48197131,\n",
       "       0.37924741, 0.56740721, 0.39404338, 0.41453772, 0.35182022, 0.54765592, 0.63102443, 0.57534721, 0.61282778, 0.38727535, 0.39390956, 0.57321252, 0.58717605, 0.71582352, 0.32154091, 0.39201994,\n",
       "       0.37855872, 0.4422048 , 0.41279013, 0.30429373, 0.31059176, 0.46231464, 0.35316867, 0.39251187, 0.38567995, 0.33634396, 0.31658474, 0.34292545, 0.33277553, 0.6126804 , 0.39916602, 0.4093609 ,\n",
       "       0.57359008, 0.35524479, 0.36480147, 0.33295225, 0.36831304, 0.44751101, 0.49104076, 0.38547116, 0.35863408, 0.54425135, 0.4723011 , 0.65028827, 0.38098097, 0.33574708, 0.37016935, 0.63768435,\n",
       "       0.65280382, 0.59803865, 0.49430278, 0.32917232, 0.60474153, 0.65142997, 0.33980803, 0.58198823, 0.6163526 , 0.6305166 , 0.40318444, 0.29351181, 0.33495909, 0.42502022, 0.59961833, 0.59503158,\n",
       "       0.59367399, 0.47213061, 0.41295713, 0.40216069, 0.56841594, 0.66966408, 0.39846637, 0.27931746, 0.60700433, 0.6466446 , 0.61158757, 0.33187694, 0.69526389])"
      ]
     },
     "execution_count": 22,
     "metadata": {},
     "output_type": "execute_result"
    }
   ],
   "source": [
    "ens_preds"
   ]
  },
  {
   "cell_type": "code",
   "execution_count": 24,
   "id": "f4ce3237",
   "metadata": {},
   "outputs": [
    {
     "data": {
      "text/plain": [
       "0.8602150537634409"
      ]
     },
     "execution_count": 24,
     "metadata": {},
     "output_type": "execute_result"
    }
   ],
   "source": [
    "classif_accur(ens_preds,test_set.train.y)"
   ]
  },
  {
   "cell_type": "markdown",
   "id": "05395e5e",
   "metadata": {},
   "source": [
    "The random forest has the best classification accuracy, even better than the ensemble of it and the neural net."
   ]
  }
 ],
 "metadata": {
  "kernelspec": {
   "display_name": "Env",
   "language": "python",
   "name": "env"
  },
  "language_info": {
   "codemirror_mode": {
    "name": "ipython",
    "version": 3
   },
   "file_extension": ".py",
   "mimetype": "text/x-python",
   "name": "python",
   "nbconvert_exporter": "python",
   "pygments_lexer": "ipython3",
   "version": "3.9.5"
  }
 },
 "nbformat": 4,
 "nbformat_minor": 5
}
