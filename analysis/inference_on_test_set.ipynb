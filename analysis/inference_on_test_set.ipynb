{
 "cells": [
  {
   "cell_type": "code",
   "execution_count": 1,
   "id": "235657a5",
   "metadata": {},
   "outputs": [],
   "source": [
    "from fastbook import *\n",
    "setup_book()\n",
    "\n",
    "import pandas as pd\n",
    "import numpy as np\n",
    "from pandas.api.types import is_string_dtype, is_numeric_dtype, is_categorical_dtype\n",
    "from fastai.tabular.all import *\n",
    "from sklearn.ensemble import RandomForestRegressor\n",
    "from sklearn.tree import DecisionTreeRegressor\n",
    "from dtreeviz.trees import *\n",
    "from IPython.display import Image, display_svg, SVG"
   ]
  },
  {
   "cell_type": "markdown",
   "id": "a95a1ccb",
   "metadata": {},
   "source": [
    "<font size = 6> Decision Tree</font>"
   ]
  },
  {
   "cell_type": "code",
   "execution_count": 2,
   "id": "38dd84c7",
   "metadata": {},
   "outputs": [],
   "source": [
    "test_set = pd.read_csv('..\\\\prepared_data\\\\test_set_v1.csv')"
   ]
  },
  {
   "cell_type": "code",
   "execution_count": 3,
   "id": "64942059",
   "metadata": {},
   "outputs": [],
   "source": [
    "test_set = test_set.drop(columns=['year','Dem_candidate','Repub_candidate','state']) "
   ]
  },
  {
   "cell_type": "code",
   "execution_count": 4,
   "id": "5672c21a",
   "metadata": {},
   "outputs": [
    {
     "data": {
      "text/html": [
       "<div>\n",
       "<style scoped>\n",
       "    .dataframe tbody tr th:only-of-type {\n",
       "        vertical-align: middle;\n",
       "    }\n",
       "\n",
       "    .dataframe tbody tr th {\n",
       "        vertical-align: top;\n",
       "    }\n",
       "\n",
       "    .dataframe thead th {\n",
       "        text-align: right;\n",
       "    }\n",
       "</style>\n",
       "<table border=\"1\" class=\"dataframe\">\n",
       "  <thead>\n",
       "    <tr style=\"text-align: right;\">\n",
       "      <th></th>\n",
       "      <th>state_po</th>\n",
       "      <th>Repub%of_two-party_vote</th>\n",
       "      <th>Dem_cfscore</th>\n",
       "      <th>Repub_cfscore</th>\n",
       "      <th>state enviro</th>\n",
       "      <th>Natl_enviro</th>\n",
       "      <th>Inflation</th>\n",
       "      <th>Natl_unempl</th>\n",
       "    </tr>\n",
       "  </thead>\n",
       "  <tbody>\n",
       "    <tr>\n",
       "      <th>0</th>\n",
       "      <td>AL</td>\n",
       "      <td>0.640702</td>\n",
       "      <td>NaN</td>\n",
       "      <td>0.896</td>\n",
       "      <td>14</td>\n",
       "      <td>1.1</td>\n",
       "      <td>1.26</td>\n",
       "      <td>4.87</td>\n",
       "    </tr>\n",
       "    <tr>\n",
       "      <th>1</th>\n",
       "      <td>AK</td>\n",
       "      <td>0.792370</td>\n",
       "      <td>NaN</td>\n",
       "      <td>0.420</td>\n",
       "      <td>12</td>\n",
       "      <td>1.1</td>\n",
       "      <td>1.26</td>\n",
       "      <td>4.87</td>\n",
       "    </tr>\n",
       "    <tr>\n",
       "      <th>2</th>\n",
       "      <td>AZ</td>\n",
       "      <td>0.568609</td>\n",
       "      <td>NaN</td>\n",
       "      <td>0.762</td>\n",
       "      <td>7</td>\n",
       "      <td>1.1</td>\n",
       "      <td>1.26</td>\n",
       "      <td>4.87</td>\n",
       "    </tr>\n",
       "    <tr>\n",
       "      <th>3</th>\n",
       "      <td>AR</td>\n",
       "      <td>0.622993</td>\n",
       "      <td>NaN</td>\n",
       "      <td>0.852</td>\n",
       "      <td>14</td>\n",
       "      <td>1.1</td>\n",
       "      <td>1.26</td>\n",
       "      <td>4.87</td>\n",
       "    </tr>\n",
       "    <tr>\n",
       "      <th>4</th>\n",
       "      <td>CA</td>\n",
       "      <td>0.383972</td>\n",
       "      <td>-1.418</td>\n",
       "      <td>NaN</td>\n",
       "      <td>-9</td>\n",
       "      <td>1.1</td>\n",
       "      <td>1.26</td>\n",
       "      <td>4.87</td>\n",
       "    </tr>\n",
       "    <tr>\n",
       "      <th>...</th>\n",
       "      <td>...</td>\n",
       "      <td>...</td>\n",
       "      <td>...</td>\n",
       "      <td>...</td>\n",
       "      <td>...</td>\n",
       "      <td>...</td>\n",
       "      <td>...</td>\n",
       "      <td>...</td>\n",
       "    </tr>\n",
       "    <tr>\n",
       "      <th>88</th>\n",
       "      <td>SC</td>\n",
       "      <td>0.552079</td>\n",
       "      <td>NaN</td>\n",
       "      <td>0.758</td>\n",
       "      <td>16</td>\n",
       "      <td>-3.1</td>\n",
       "      <td>1.23</td>\n",
       "      <td>8.05</td>\n",
       "    </tr>\n",
       "    <tr>\n",
       "      <th>89</th>\n",
       "      <td>TN</td>\n",
       "      <td>0.638852</td>\n",
       "      <td>NaN</td>\n",
       "      <td>NaN</td>\n",
       "      <td>28</td>\n",
       "      <td>-3.1</td>\n",
       "      <td>1.23</td>\n",
       "      <td>8.05</td>\n",
       "    </tr>\n",
       "    <tr>\n",
       "      <th>90</th>\n",
       "      <td>TX</td>\n",
       "      <td>0.549495</td>\n",
       "      <td>NaN</td>\n",
       "      <td>0.948</td>\n",
       "      <td>17</td>\n",
       "      <td>-3.1</td>\n",
       "      <td>1.23</td>\n",
       "      <td>8.05</td>\n",
       "    </tr>\n",
       "    <tr>\n",
       "      <th>91</th>\n",
       "      <td>VA</td>\n",
       "      <td>0.439521</td>\n",
       "      <td>-0.408</td>\n",
       "      <td>NaN</td>\n",
       "      <td>-7</td>\n",
       "      <td>-3.1</td>\n",
       "      <td>1.23</td>\n",
       "      <td>8.05</td>\n",
       "    </tr>\n",
       "    <tr>\n",
       "      <th>92</th>\n",
       "      <td>WV</td>\n",
       "      <td>0.722461</td>\n",
       "      <td>NaN</td>\n",
       "      <td>0.548</td>\n",
       "      <td>33</td>\n",
       "      <td>-3.1</td>\n",
       "      <td>1.23</td>\n",
       "      <td>8.05</td>\n",
       "    </tr>\n",
       "  </tbody>\n",
       "</table>\n",
       "<p>93 rows × 8 columns</p>\n",
       "</div>"
      ],
      "text/plain": [
       "   state_po  Repub%of_two-party_vote  Dem_cfscore  Repub_cfscore  \\\n",
       "0        AL                 0.640702          NaN          0.896   \n",
       "1        AK                 0.792370          NaN          0.420   \n",
       "2        AZ                 0.568609          NaN          0.762   \n",
       "3        AR                 0.622993          NaN          0.852   \n",
       "4        CA                 0.383972       -1.418            NaN   \n",
       "..      ...                      ...          ...            ...   \n",
       "88       SC                 0.552079          NaN          0.758   \n",
       "89       TN                 0.638852          NaN            NaN   \n",
       "90       TX                 0.549495          NaN          0.948   \n",
       "91       VA                 0.439521       -0.408            NaN   \n",
       "92       WV                 0.722461          NaN          0.548   \n",
       "\n",
       "    state enviro  Natl_enviro  Inflation  Natl_unempl  \n",
       "0             14          1.1       1.26         4.87  \n",
       "1             12          1.1       1.26         4.87  \n",
       "2              7          1.1       1.26         4.87  \n",
       "3             14          1.1       1.26         4.87  \n",
       "4             -9          1.1       1.26         4.87  \n",
       "..           ...          ...        ...          ...  \n",
       "88            16         -3.1       1.23         8.05  \n",
       "89            28         -3.1       1.23         8.05  \n",
       "90            17         -3.1       1.23         8.05  \n",
       "91            -7         -3.1       1.23         8.05  \n",
       "92            33         -3.1       1.23         8.05  \n",
       "\n",
       "[93 rows x 8 columns]"
      ]
     },
     "execution_count": 4,
     "metadata": {},
     "output_type": "execute_result"
    }
   ],
   "source": [
    "test_set"
   ]
  },
  {
   "cell_type": "code",
   "execution_count": 5,
   "id": "adb6e6c1",
   "metadata": {},
   "outputs": [],
   "source": [
    "procs = [Categorify, FillMissing]\n",
    "dep_var='Repub%of_two-party_vote'\n",
    "\n",
    "cont = ['Dem_cfscore','Repub_cfscore','state enviro','Natl_enviro','Inflation','Natl_unempl']\n",
    "cat = ['state_po']\n",
    "\n",
    "to = TabularPandas(test_set, procs, cat, cont, y_names='Repub%of_two-party_vote', splits=None)"
   ]
  },
  {
   "cell_type": "code",
   "execution_count": 6,
   "id": "6cd198d9",
   "metadata": {},
   "outputs": [],
   "source": [
    "to.classes['state_po'] = ['#na#', 'AK', 'AL', 'AR', 'AZ', 'CA', 'CO', 'CT', 'DE', 'FL', 'GA', 'HI', 'IA', 'ID', 'IL', 'IN', 'KS', 'KY', 'LA', 'MA', 'MD', 'ME', 'MI', 'MN', 'MO', 'MS', 'MT', 'NC', 'ND', 'NE', 'NH', 'NJ', 'NM', 'NV', 'NY', 'OH', 'OK', 'OR', 'PA', 'RI', 'SC', 'SD', 'TN', 'TX', 'UT', 'VA', 'VT', 'WA', 'WI', 'WV', 'WY']"
   ]
  },
  {
   "cell_type": "code",
   "execution_count": 7,
   "id": "1050a6ba",
   "metadata": {},
   "outputs": [],
   "source": [
    "save_pickle('..\\\\prepared_data\\\\prepared_test_set_v1.pkl',to)"
   ]
  },
  {
   "cell_type": "code",
   "execution_count": 8,
   "id": "c1af2101",
   "metadata": {},
   "outputs": [
    {
     "data": {
      "text/html": [
       "<div>\n",
       "<style scoped>\n",
       "    .dataframe tbody tr th:only-of-type {\n",
       "        vertical-align: middle;\n",
       "    }\n",
       "\n",
       "    .dataframe tbody tr th {\n",
       "        vertical-align: top;\n",
       "    }\n",
       "\n",
       "    .dataframe thead th {\n",
       "        text-align: right;\n",
       "    }\n",
       "</style>\n",
       "<table border=\"1\" class=\"dataframe\">\n",
       "  <thead>\n",
       "    <tr style=\"text-align: right;\">\n",
       "      <th></th>\n",
       "      <th>state_po</th>\n",
       "      <th>Dem_cfscore_na</th>\n",
       "      <th>Repub_cfscore_na</th>\n",
       "      <th>Dem_cfscore</th>\n",
       "      <th>Repub_cfscore</th>\n",
       "      <th>state enviro</th>\n",
       "      <th>Natl_enviro</th>\n",
       "      <th>Inflation</th>\n",
       "      <th>Natl_unempl</th>\n",
       "    </tr>\n",
       "  </thead>\n",
       "  <tbody>\n",
       "    <tr>\n",
       "      <th>0</th>\n",
       "      <td>2</td>\n",
       "      <td>2</td>\n",
       "      <td>1</td>\n",
       "      <td>-0.660</td>\n",
       "      <td>0.896</td>\n",
       "      <td>14</td>\n",
       "      <td>1.1</td>\n",
       "      <td>1.26</td>\n",
       "      <td>4.87</td>\n",
       "    </tr>\n",
       "    <tr>\n",
       "      <th>1</th>\n",
       "      <td>1</td>\n",
       "      <td>2</td>\n",
       "      <td>1</td>\n",
       "      <td>-0.660</td>\n",
       "      <td>0.420</td>\n",
       "      <td>12</td>\n",
       "      <td>1.1</td>\n",
       "      <td>1.26</td>\n",
       "      <td>4.87</td>\n",
       "    </tr>\n",
       "    <tr>\n",
       "      <th>2</th>\n",
       "      <td>4</td>\n",
       "      <td>2</td>\n",
       "      <td>1</td>\n",
       "      <td>-0.660</td>\n",
       "      <td>0.762</td>\n",
       "      <td>7</td>\n",
       "      <td>1.1</td>\n",
       "      <td>1.26</td>\n",
       "      <td>4.87</td>\n",
       "    </tr>\n",
       "    <tr>\n",
       "      <th>3</th>\n",
       "      <td>3</td>\n",
       "      <td>2</td>\n",
       "      <td>1</td>\n",
       "      <td>-0.660</td>\n",
       "      <td>0.852</td>\n",
       "      <td>14</td>\n",
       "      <td>1.1</td>\n",
       "      <td>1.26</td>\n",
       "      <td>4.87</td>\n",
       "    </tr>\n",
       "    <tr>\n",
       "      <th>4</th>\n",
       "      <td>5</td>\n",
       "      <td>1</td>\n",
       "      <td>2</td>\n",
       "      <td>-1.418</td>\n",
       "      <td>0.892</td>\n",
       "      <td>-9</td>\n",
       "      <td>1.1</td>\n",
       "      <td>1.26</td>\n",
       "      <td>4.87</td>\n",
       "    </tr>\n",
       "    <tr>\n",
       "      <th>...</th>\n",
       "      <td>...</td>\n",
       "      <td>...</td>\n",
       "      <td>...</td>\n",
       "      <td>...</td>\n",
       "      <td>...</td>\n",
       "      <td>...</td>\n",
       "      <td>...</td>\n",
       "      <td>...</td>\n",
       "      <td>...</td>\n",
       "    </tr>\n",
       "    <tr>\n",
       "      <th>88</th>\n",
       "      <td>39</td>\n",
       "      <td>2</td>\n",
       "      <td>1</td>\n",
       "      <td>-0.660</td>\n",
       "      <td>0.758</td>\n",
       "      <td>16</td>\n",
       "      <td>-3.1</td>\n",
       "      <td>1.23</td>\n",
       "      <td>8.05</td>\n",
       "    </tr>\n",
       "    <tr>\n",
       "      <th>89</th>\n",
       "      <td>41</td>\n",
       "      <td>2</td>\n",
       "      <td>2</td>\n",
       "      <td>-0.660</td>\n",
       "      <td>0.892</td>\n",
       "      <td>28</td>\n",
       "      <td>-3.1</td>\n",
       "      <td>1.23</td>\n",
       "      <td>8.05</td>\n",
       "    </tr>\n",
       "    <tr>\n",
       "      <th>90</th>\n",
       "      <td>42</td>\n",
       "      <td>2</td>\n",
       "      <td>1</td>\n",
       "      <td>-0.660</td>\n",
       "      <td>0.948</td>\n",
       "      <td>17</td>\n",
       "      <td>-3.1</td>\n",
       "      <td>1.23</td>\n",
       "      <td>8.05</td>\n",
       "    </tr>\n",
       "    <tr>\n",
       "      <th>91</th>\n",
       "      <td>44</td>\n",
       "      <td>1</td>\n",
       "      <td>2</td>\n",
       "      <td>-0.408</td>\n",
       "      <td>0.892</td>\n",
       "      <td>-7</td>\n",
       "      <td>-3.1</td>\n",
       "      <td>1.23</td>\n",
       "      <td>8.05</td>\n",
       "    </tr>\n",
       "    <tr>\n",
       "      <th>92</th>\n",
       "      <td>48</td>\n",
       "      <td>2</td>\n",
       "      <td>1</td>\n",
       "      <td>-0.660</td>\n",
       "      <td>0.548</td>\n",
       "      <td>33</td>\n",
       "      <td>-3.1</td>\n",
       "      <td>1.23</td>\n",
       "      <td>8.05</td>\n",
       "    </tr>\n",
       "  </tbody>\n",
       "</table>\n",
       "<p>93 rows × 9 columns</p>\n",
       "</div>"
      ],
      "text/plain": [
       "    state_po  Dem_cfscore_na  Repub_cfscore_na  Dem_cfscore  Repub_cfscore  \\\n",
       "0          2               2                 1       -0.660          0.896   \n",
       "1          1               2                 1       -0.660          0.420   \n",
       "2          4               2                 1       -0.660          0.762   \n",
       "3          3               2                 1       -0.660          0.852   \n",
       "4          5               1                 2       -1.418          0.892   \n",
       "..       ...             ...               ...          ...            ...   \n",
       "88        39               2                 1       -0.660          0.758   \n",
       "89        41               2                 2       -0.660          0.892   \n",
       "90        42               2                 1       -0.660          0.948   \n",
       "91        44               1                 2       -0.408          0.892   \n",
       "92        48               2                 1       -0.660          0.548   \n",
       "\n",
       "    state enviro  Natl_enviro  Inflation  Natl_unempl  \n",
       "0             14          1.1       1.26         4.87  \n",
       "1             12          1.1       1.26         4.87  \n",
       "2              7          1.1       1.26         4.87  \n",
       "3             14          1.1       1.26         4.87  \n",
       "4             -9          1.1       1.26         4.87  \n",
       "..           ...          ...        ...          ...  \n",
       "88            16         -3.1       1.23         8.05  \n",
       "89            28         -3.1       1.23         8.05  \n",
       "90            17         -3.1       1.23         8.05  \n",
       "91            -7         -3.1       1.23         8.05  \n",
       "92            33         -3.1       1.23         8.05  \n",
       "\n",
       "[93 rows x 9 columns]"
      ]
     },
     "execution_count": 8,
     "metadata": {},
     "output_type": "execute_result"
    }
   ],
   "source": [
    "xs = to.train.xs\n",
    "xs"
   ]
  },
  {
   "cell_type": "code",
   "execution_count": 10,
   "id": "a84c6e2c",
   "metadata": {},
   "outputs": [],
   "source": [
    "dtree = load_pickle('trained_models\\\\dtree_best.pkl')"
   ]
  },
  {
   "cell_type": "code",
   "execution_count": 11,
   "id": "597d094a",
   "metadata": {},
   "outputs": [
    {
     "data": {
      "text/plain": [
       "array([0.61392636, 0.66014414, 0.66014414, 0.61392636, 0.5314384 , 0.54303319, 0.36389214, 0.47045276, 0.54303319, 0.31731838, 0.70709773, 0.36389214, 0.54303319, 0.66014414, 0.61392636, 0.47045276,\n",
       "       0.31731838, 0.54303319, 0.54303319, 0.66014414, 0.31731838, 0.54303319, 0.66014414, 0.66014414, 0.70709773, 0.44090314, 0.47045276, 0.61392636, 0.61392636, 0.70709773, 0.31731838, 0.44090314,\n",
       "       0.32723542, 0.51285582, 0.31731838, 0.36389214, 0.36389214, 0.51285582, 0.31731838, 0.47045276, 0.36389214, 0.31731838, 0.5314384 , 0.36389214, 0.51285582, 0.51285582, 0.47045276, 0.51285582,\n",
       "       0.51285582, 0.51285582, 0.44090314, 0.44090314, 0.31731838, 0.51285582, 0.51285582, 0.51285582, 0.31731838, 0.47045276, 0.47045276, 0.70709773, 0.51285582, 0.44090314, 0.32723542, 0.70709773,\n",
       "       0.70709773, 0.61392636, 0.54303319, 0.31731838, 0.47045276, 0.70709773, 0.31731838, 0.47045276, 0.70709773, 0.70709773, 0.36389214, 0.31731838, 0.36389214, 0.54303319, 0.61392636, 0.70709773,\n",
       "       0.70709773, 0.54303319, 0.31731838, 0.44090314, 0.54303319, 0.70709773, 0.44090314, 0.31731838, 0.66014414, 0.70709773, 0.70709773, 0.44090314, 0.70709773])"
      ]
     },
     "execution_count": 11,
     "metadata": {},
     "output_type": "execute_result"
    }
   ],
   "source": [
    "dtree.predict(xs)"
   ]
  },
  {
   "cell_type": "code",
   "execution_count": 12,
   "id": "83030add",
   "metadata": {},
   "outputs": [],
   "source": [
    "def r_mse(pred,y): \n",
    "    return round(math.sqrt(((pred-y)**2).mean()), 6)\n",
    "def model_rmse(model, xs, y): \n",
    "    return r_mse(model.predict(xs), y)"
   ]
  },
  {
   "cell_type": "code",
   "execution_count": 13,
   "id": "faf89bfb",
   "metadata": {},
   "outputs": [
    {
     "data": {
      "text/plain": [
       "0.092259"
      ]
     },
     "execution_count": 13,
     "metadata": {},
     "output_type": "execute_result"
    }
   ],
   "source": [
    "model_rmse(dtree, xs, to.train.y)"
   ]
  },
  {
   "cell_type": "markdown",
   "id": "8d5fe4f9",
   "metadata": {},
   "source": [
    "Classification Performance on Test Set"
   ]
  },
  {
   "cell_type": "code",
   "execution_count": 53,
   "id": "70f90969",
   "metadata": {},
   "outputs": [],
   "source": [
    "def classif_accur(preds, y): \n",
    "    pred_margins = preds - 0.500\n",
    "    pred_repub_wins = np.array([1 if x>0 else 0 for x in pred_margins])\n",
    "    \n",
    "    margins = np.array(y - 0.500)\n",
    "    repub_wins = np.array([1 if x>0 else 0 for x in margins])\n",
    "    correct = repub_wins==pred_repub_wins\n",
    "\n",
    "    return sum(correct)/len(correct)"
   ]
  },
  {
   "cell_type": "code",
   "execution_count": 54,
   "id": "ee2188a7",
   "metadata": {},
   "outputs": [
    {
     "data": {
      "text/plain": [
       "0.6989247311827957"
      ]
     },
     "execution_count": 54,
     "metadata": {},
     "output_type": "execute_result"
    }
   ],
   "source": [
    "classif_accur(dtree.predict(xs), to.train.y)"
   ]
  },
  {
   "cell_type": "markdown",
   "id": "18e81558",
   "metadata": {},
   "source": [
    "<font size = 6 > Random Forest </font>"
   ]
  },
  {
   "cell_type": "code",
   "execution_count": 14,
   "id": "579d99d3",
   "metadata": {},
   "outputs": [],
   "source": [
    "rf = load_pickle('trained_models\\\\rf_best.pkl')"
   ]
  },
  {
   "cell_type": "code",
   "execution_count": 15,
   "id": "c7907903",
   "metadata": {},
   "outputs": [
    {
     "data": {
      "text/plain": [
       "array([0.64983206, 0.68158005, 0.66923978, 0.64983206, 0.38291541, 0.39713869, 0.36450723, 0.63135828, 0.66322745, 0.35728394, 0.64232013, 0.35695433, 0.64232013, 0.41412047, 0.64983206, 0.61112101,\n",
       "       0.35695433, 0.66322745, 0.3661869 , 0.40853919, 0.3661869 , 0.64983206, 0.66923978, 0.62847124, 0.64136368, 0.36710143, 0.42715449, 0.64558037, 0.65309231, 0.69940893, 0.37067181, 0.37067181,\n",
       "       0.39551713, 0.63953524, 0.3905503 , 0.3532962 , 0.34728905, 0.6126332 , 0.35026422, 0.5861934 , 0.38006539, 0.34607291, 0.36800669, 0.35014529, 0.35256844, 0.64723855, 0.59448701, 0.62014513,\n",
       "       0.62711151, 0.35530548, 0.35530548, 0.35530548, 0.35639805, 0.64413845, 0.54006962, 0.39640601, 0.36001807, 0.61160841, 0.59849818, 0.65871223, 0.49032184, 0.35804843, 0.36104514, 0.62684961,\n",
       "       0.59520634, 0.61633933, 0.50938693, 0.3532962 , 0.61212263, 0.61212263, 0.34607291, 0.61212263, 0.62385126, 0.63498714, 0.37857466, 0.35026422, 0.35014529, 0.38858945, 0.62385126, 0.61212263,\n",
       "       0.61538288, 0.5438441 , 0.37599254, 0.38423731, 0.64723855, 0.66480052, 0.35731258, 0.36001807, 0.64672432, 0.62333704, 0.62598022, 0.35204129, 0.66629213])"
      ]
     },
     "execution_count": 15,
     "metadata": {},
     "output_type": "execute_result"
    }
   ],
   "source": [
    "rf.predict(xs)"
   ]
  },
  {
   "cell_type": "code",
   "execution_count": 44,
   "id": "f045159f",
   "metadata": {},
   "outputs": [
    {
     "data": {
      "text/plain": [
       "0.091052"
      ]
     },
     "execution_count": 44,
     "metadata": {},
     "output_type": "execute_result"
    }
   ],
   "source": [
    "model_rmse(rf, xs, to.train.y)"
   ]
  },
  {
   "cell_type": "markdown",
   "id": "cc3a5ff3",
   "metadata": {},
   "source": [
    "<font size = 6> Neural Net</font>"
   ]
  },
  {
   "cell_type": "code",
   "execution_count": 17,
   "id": "57208e9d",
   "metadata": {},
   "outputs": [],
   "source": [
    "test_set = pd.read_csv('..\\\\prepared_data\\\\test_set_v1.csv')"
   ]
  },
  {
   "cell_type": "code",
   "execution_count": 18,
   "id": "cd0df246",
   "metadata": {},
   "outputs": [],
   "source": [
    "test_set.drop(columns=['year','Dem_candidate','Repub_candidate','state'],inplace=True)\n",
    "test_set_y = test_set.loc[:,'Repub%of_two-party_vote']\n",
    "test_set_xs = test_set.drop('Repub%of_two-party_vote', axis=1)"
   ]
  },
  {
   "cell_type": "code",
   "execution_count": 20,
   "id": "7cd3d558",
   "metadata": {},
   "outputs": [],
   "source": [
    "best_net = load_pickle('trained_models\\\\0.076_error_neural_net.pkl')"
   ]
  },
  {
   "cell_type": "code",
   "execution_count": 21,
   "id": "cb1cae7f",
   "metadata": {},
   "outputs": [],
   "source": [
    "# dataloader specifically for inference\n",
    "dl = best_net.dls.test_dl(test_set)"
   ]
  },
  {
   "cell_type": "code",
   "execution_count": 22,
   "id": "0f5be7d3",
   "metadata": {},
   "outputs": [],
   "source": [
    "save_pickle('..\\\\prepared_data\\\\dataloader_for_inference_neural_net.pkl',dl)"
   ]
  },
  {
   "cell_type": "code",
   "execution_count": 29,
   "id": "045a58e8",
   "metadata": {},
   "outputs": [
    {
     "data": {
      "text/html": [
       "\n",
       "<style>\n",
       "    /* Turns off some styling */\n",
       "    progress {\n",
       "        /* gets rid of default border in Firefox and Opera. */\n",
       "        border: none;\n",
       "        /* Needs to be in here for Safari polyfill so background images work as expected. */\n",
       "        background-size: auto;\n",
       "    }\n",
       "    progress:not([value]), progress:not([value])::-webkit-progress-bar {\n",
       "        background: repeating-linear-gradient(45deg, #7e7e7e, #7e7e7e 10px, #5c5c5c 10px, #5c5c5c 20px);\n",
       "    }\n",
       "    .progress-bar-interrupted, .progress-bar-interrupted::-webkit-progress-bar {\n",
       "        background: #F44336;\n",
       "    }\n",
       "</style>\n"
      ],
      "text/plain": [
       "<IPython.core.display.HTML object>"
      ]
     },
     "metadata": {},
     "output_type": "display_data"
    },
    {
     "data": {
      "text/html": [],
      "text/plain": [
       "<IPython.core.display.HTML object>"
      ]
     },
     "metadata": {},
     "output_type": "display_data"
    }
   ],
   "source": [
    "preds = best_net.get_preds(dl=dl)\n",
    "preds_series = pd.DataFrame(preds[0].numpy())\n",
    "preds_series = preds_series.iloc[:,0]"
   ]
  },
  {
   "cell_type": "code",
   "execution_count": 30,
   "id": "a2411944",
   "metadata": {},
   "outputs": [],
   "source": [
    "def test_set_r_mse(pred,y): # new rmse function using numpy's swrt. Previous one used math.sqrt, which threw errors\n",
    "    return round(np.sqrt(((pred-y)**2).mean()), 6)"
   ]
  },
  {
   "cell_type": "code",
   "execution_count": 45,
   "id": "e4ea20bb",
   "metadata": {},
   "outputs": [
    {
     "data": {
      "text/plain": [
       "0.121142"
      ]
     },
     "execution_count": 45,
     "metadata": {},
     "output_type": "execute_result"
    }
   ],
   "source": [
    "test_set_r_mse(preds_series,test_set_y)"
   ]
  },
  {
   "cell_type": "markdown",
   "id": "daa70803",
   "metadata": {},
   "source": [
    "This performance is unsatisfactory, and this is the best neural net, so I will revisit my models and try using Ensembling and Data Augmentation to improve performance."
   ]
  },
  {
   "cell_type": "markdown",
   "id": "3e0e2b94",
   "metadata": {},
   "source": [
    "<font size = 6>Ensembling</font>"
   ]
  },
  {
   "cell_type": "code",
   "execution_count": 41,
   "id": "a71a08ba",
   "metadata": {},
   "outputs": [],
   "source": [
    "rf_preds = rf.predict(xs)\n",
    "ens_preds = (np.array(preds_series) + rf_preds) /2"
   ]
  },
  {
   "cell_type": "code",
   "execution_count": 42,
   "id": "add6d1d1",
   "metadata": {},
   "outputs": [
    {
     "data": {
      "text/plain": [
       "array([0.65060439, 0.69310471, 0.60418249, 0.63361415, 0.41761972, 0.3754504 , 0.38334154, 0.46751687, 0.58552957, 0.28799736, 0.63767265, 0.37940751, 0.54890619, 0.46721904, 0.63390296, 0.48197131,\n",
       "       0.37924741, 0.56740721, 0.39404338, 0.41453772, 0.35182022, 0.54765592, 0.63102443, 0.57534721, 0.61282778, 0.38727535, 0.39390956, 0.57321252, 0.58717605, 0.71582352, 0.32154091, 0.39201994,\n",
       "       0.37855872, 0.4422048 , 0.41279013, 0.30429373, 0.31059176, 0.46231464, 0.35316867, 0.39251187, 0.38567995, 0.33634396, 0.31658474, 0.34292545, 0.33277553, 0.6126804 , 0.39916602, 0.4093609 ,\n",
       "       0.57359008, 0.35524479, 0.36480147, 0.33295225, 0.36831304, 0.44751101, 0.49104076, 0.38547116, 0.35863408, 0.54425135, 0.4723011 , 0.65028827, 0.38098097, 0.33574708, 0.37016935, 0.63768435,\n",
       "       0.65280382, 0.59803865, 0.49430278, 0.32917232, 0.60474153, 0.65142997, 0.33980803, 0.58198823, 0.6163526 , 0.6305166 , 0.40318444, 0.29351181, 0.33495909, 0.42502022, 0.59961833, 0.59503158,\n",
       "       0.59367399, 0.47213061, 0.41295713, 0.40216069, 0.56841594, 0.66966408, 0.39846637, 0.27931746, 0.60700433, 0.6466446 , 0.61158757, 0.33187694, 0.69526389])"
      ]
     },
     "execution_count": 42,
     "metadata": {},
     "output_type": "execute_result"
    }
   ],
   "source": [
    "ens_preds"
   ]
  },
  {
   "cell_type": "code",
   "execution_count": 46,
   "id": "3a83916e",
   "metadata": {},
   "outputs": [
    {
     "data": {
      "text/plain": [
       "0.083401"
      ]
     },
     "execution_count": 46,
     "metadata": {},
     "output_type": "execute_result"
    }
   ],
   "source": [
    "r_mse(ens_preds,test_set_y)"
   ]
  },
  {
   "cell_type": "markdown",
   "id": "1962fdd8",
   "metadata": {},
   "source": [
    "We get better performance from the ensemble than from either the best random forest or the best neural net."
   ]
  }
 ],
 "metadata": {
  "kernelspec": {
   "display_name": "Env",
   "language": "python",
   "name": "env"
  },
  "language_info": {
   "codemirror_mode": {
    "name": "ipython",
    "version": 3
   },
   "file_extension": ".py",
   "mimetype": "text/x-python",
   "name": "python",
   "nbconvert_exporter": "python",
   "pygments_lexer": "ipython3",
   "version": "3.9.5"
  }
 },
 "nbformat": 4,
 "nbformat_minor": 5
}
