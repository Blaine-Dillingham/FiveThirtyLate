{
 "cells": [
  {
   "cell_type": "code",
   "execution_count": 1,
   "id": "235657a5",
   "metadata": {},
   "outputs": [],
   "source": [
    "from fastbook import *\n",
    "setup_book()\n",
    "\n",
    "import pandas as pd\n",
    "import numpy as np\n",
    "from pandas.api.types import is_string_dtype, is_numeric_dtype, is_categorical_dtype\n",
    "from fastai.tabular.all import *\n",
    "from sklearn.ensemble import RandomForestRegressor\n",
    "from sklearn.tree import DecisionTreeRegressor\n",
    "from dtreeviz.trees import *\n",
    "from IPython.display import Image, display_svg, SVG"
   ]
  },
  {
   "cell_type": "markdown",
   "id": "a95a1ccb",
   "metadata": {},
   "source": [
    "<font size = 6> Decision Tree</font>"
   ]
  },
  {
   "cell_type": "code",
   "execution_count": 94,
   "id": "38dd84c7",
   "metadata": {},
   "outputs": [],
   "source": [
    "test_set = pd.read_csv('..\\\\prepared_data\\\\test_set_v1.csv')"
   ]
  },
  {
   "cell_type": "code",
   "execution_count": 95,
   "id": "64942059",
   "metadata": {},
   "outputs": [],
   "source": [
    "test_set = test_set.drop(columns=['year','Dem_candidate','Repub_candidate','state']) "
   ]
  },
  {
   "cell_type": "code",
   "execution_count": 96,
   "id": "5672c21a",
   "metadata": {},
   "outputs": [
    {
     "data": {
      "text/html": [
       "<div>\n",
       "<style scoped>\n",
       "    .dataframe tbody tr th:only-of-type {\n",
       "        vertical-align: middle;\n",
       "    }\n",
       "\n",
       "    .dataframe tbody tr th {\n",
       "        vertical-align: top;\n",
       "    }\n",
       "\n",
       "    .dataframe thead th {\n",
       "        text-align: right;\n",
       "    }\n",
       "</style>\n",
       "<table border=\"1\" class=\"dataframe\">\n",
       "  <thead>\n",
       "    <tr style=\"text-align: right;\">\n",
       "      <th></th>\n",
       "      <th>state_po</th>\n",
       "      <th>Repub%of_two-party_vote</th>\n",
       "      <th>Dem_cfscore</th>\n",
       "      <th>Repub_cfscore</th>\n",
       "      <th>state enviro</th>\n",
       "      <th>Natl_enviro</th>\n",
       "      <th>Inflation</th>\n",
       "      <th>Natl_unempl</th>\n",
       "    </tr>\n",
       "  </thead>\n",
       "  <tbody>\n",
       "    <tr>\n",
       "      <th>0</th>\n",
       "      <td>AL</td>\n",
       "      <td>0.640702</td>\n",
       "      <td>NaN</td>\n",
       "      <td>0.896</td>\n",
       "      <td>14</td>\n",
       "      <td>1.1</td>\n",
       "      <td>1.26</td>\n",
       "      <td>4.87</td>\n",
       "    </tr>\n",
       "    <tr>\n",
       "      <th>1</th>\n",
       "      <td>AK</td>\n",
       "      <td>0.792370</td>\n",
       "      <td>NaN</td>\n",
       "      <td>0.420</td>\n",
       "      <td>12</td>\n",
       "      <td>1.1</td>\n",
       "      <td>1.26</td>\n",
       "      <td>4.87</td>\n",
       "    </tr>\n",
       "    <tr>\n",
       "      <th>2</th>\n",
       "      <td>AZ</td>\n",
       "      <td>0.568609</td>\n",
       "      <td>NaN</td>\n",
       "      <td>0.762</td>\n",
       "      <td>7</td>\n",
       "      <td>1.1</td>\n",
       "      <td>1.26</td>\n",
       "      <td>4.87</td>\n",
       "    </tr>\n",
       "    <tr>\n",
       "      <th>3</th>\n",
       "      <td>AR</td>\n",
       "      <td>0.622993</td>\n",
       "      <td>NaN</td>\n",
       "      <td>0.852</td>\n",
       "      <td>14</td>\n",
       "      <td>1.1</td>\n",
       "      <td>1.26</td>\n",
       "      <td>4.87</td>\n",
       "    </tr>\n",
       "    <tr>\n",
       "      <th>4</th>\n",
       "      <td>CA</td>\n",
       "      <td>0.383972</td>\n",
       "      <td>-1.418</td>\n",
       "      <td>NaN</td>\n",
       "      <td>-9</td>\n",
       "      <td>1.1</td>\n",
       "      <td>1.26</td>\n",
       "      <td>4.87</td>\n",
       "    </tr>\n",
       "    <tr>\n",
       "      <th>...</th>\n",
       "      <td>...</td>\n",
       "      <td>...</td>\n",
       "      <td>...</td>\n",
       "      <td>...</td>\n",
       "      <td>...</td>\n",
       "      <td>...</td>\n",
       "      <td>...</td>\n",
       "      <td>...</td>\n",
       "    </tr>\n",
       "    <tr>\n",
       "      <th>88</th>\n",
       "      <td>SC</td>\n",
       "      <td>0.552079</td>\n",
       "      <td>NaN</td>\n",
       "      <td>0.758</td>\n",
       "      <td>16</td>\n",
       "      <td>-3.1</td>\n",
       "      <td>1.23</td>\n",
       "      <td>8.05</td>\n",
       "    </tr>\n",
       "    <tr>\n",
       "      <th>89</th>\n",
       "      <td>TN</td>\n",
       "      <td>0.638852</td>\n",
       "      <td>NaN</td>\n",
       "      <td>NaN</td>\n",
       "      <td>28</td>\n",
       "      <td>-3.1</td>\n",
       "      <td>1.23</td>\n",
       "      <td>8.05</td>\n",
       "    </tr>\n",
       "    <tr>\n",
       "      <th>90</th>\n",
       "      <td>TX</td>\n",
       "      <td>0.549495</td>\n",
       "      <td>NaN</td>\n",
       "      <td>0.948</td>\n",
       "      <td>17</td>\n",
       "      <td>-3.1</td>\n",
       "      <td>1.23</td>\n",
       "      <td>8.05</td>\n",
       "    </tr>\n",
       "    <tr>\n",
       "      <th>91</th>\n",
       "      <td>VA</td>\n",
       "      <td>0.439521</td>\n",
       "      <td>-0.408</td>\n",
       "      <td>NaN</td>\n",
       "      <td>-7</td>\n",
       "      <td>-3.1</td>\n",
       "      <td>1.23</td>\n",
       "      <td>8.05</td>\n",
       "    </tr>\n",
       "    <tr>\n",
       "      <th>92</th>\n",
       "      <td>WV</td>\n",
       "      <td>0.722461</td>\n",
       "      <td>NaN</td>\n",
       "      <td>0.548</td>\n",
       "      <td>33</td>\n",
       "      <td>-3.1</td>\n",
       "      <td>1.23</td>\n",
       "      <td>8.05</td>\n",
       "    </tr>\n",
       "  </tbody>\n",
       "</table>\n",
       "<p>93 rows × 8 columns</p>\n",
       "</div>"
      ],
      "text/plain": [
       "   state_po  Repub%of_two-party_vote  Dem_cfscore  Repub_cfscore  \\\n",
       "0        AL                 0.640702          NaN          0.896   \n",
       "1        AK                 0.792370          NaN          0.420   \n",
       "2        AZ                 0.568609          NaN          0.762   \n",
       "3        AR                 0.622993          NaN          0.852   \n",
       "4        CA                 0.383972       -1.418            NaN   \n",
       "..      ...                      ...          ...            ...   \n",
       "88       SC                 0.552079          NaN          0.758   \n",
       "89       TN                 0.638852          NaN            NaN   \n",
       "90       TX                 0.549495          NaN          0.948   \n",
       "91       VA                 0.439521       -0.408            NaN   \n",
       "92       WV                 0.722461          NaN          0.548   \n",
       "\n",
       "    state enviro  Natl_enviro  Inflation  Natl_unempl  \n",
       "0             14          1.1       1.26         4.87  \n",
       "1             12          1.1       1.26         4.87  \n",
       "2              7          1.1       1.26         4.87  \n",
       "3             14          1.1       1.26         4.87  \n",
       "4             -9          1.1       1.26         4.87  \n",
       "..           ...          ...        ...          ...  \n",
       "88            16         -3.1       1.23         8.05  \n",
       "89            28         -3.1       1.23         8.05  \n",
       "90            17         -3.1       1.23         8.05  \n",
       "91            -7         -3.1       1.23         8.05  \n",
       "92            33         -3.1       1.23         8.05  \n",
       "\n",
       "[93 rows x 8 columns]"
      ]
     },
     "execution_count": 96,
     "metadata": {},
     "output_type": "execute_result"
    }
   ],
   "source": [
    "test_set"
   ]
  },
  {
   "cell_type": "code",
   "execution_count": 97,
   "id": "adb6e6c1",
   "metadata": {},
   "outputs": [],
   "source": [
    "procs = [Categorify, FillMissing]\n",
    "dep_var='Repub%of_two-party_vote'\n",
    "\n",
    "cont = ['Dem_cfscore','Repub_cfscore','state enviro','Natl_enviro','Inflation','Natl_unempl']\n",
    "cat = ['state_po']\n",
    "\n",
    "to = TabularPandas(test_set, procs, cat, cont, y_names='Repub%of_two-party_vote', splits=None)"
   ]
  },
  {
   "cell_type": "code",
   "execution_count": 100,
   "id": "6cd198d9",
   "metadata": {},
   "outputs": [],
   "source": [
    "to.classes['state_po'] = ['#na#', 'AK', 'AL', 'AR', 'AZ', 'CA', 'CO', 'CT', 'DE', 'FL', 'GA', 'HI', 'IA', 'ID', 'IL', 'IN', 'KS', 'KY', 'LA', 'MA', 'MD', 'ME', 'MI', 'MN', 'MO', 'MS', 'MT', 'NC', 'ND', 'NE', 'NH', 'NJ', 'NM', 'NV', 'NY', 'OH', 'OK', 'OR', 'PA', 'RI', 'SC', 'SD', 'TN', 'TX', 'UT', 'VA', 'VT', 'WA', 'WI', 'WV', 'WY']"
   ]
  },
  {
   "cell_type": "code",
   "execution_count": 107,
   "id": "c1af2101",
   "metadata": {},
   "outputs": [
    {
     "data": {
      "text/html": [
       "<div>\n",
       "<style scoped>\n",
       "    .dataframe tbody tr th:only-of-type {\n",
       "        vertical-align: middle;\n",
       "    }\n",
       "\n",
       "    .dataframe tbody tr th {\n",
       "        vertical-align: top;\n",
       "    }\n",
       "\n",
       "    .dataframe thead th {\n",
       "        text-align: right;\n",
       "    }\n",
       "</style>\n",
       "<table border=\"1\" class=\"dataframe\">\n",
       "  <thead>\n",
       "    <tr style=\"text-align: right;\">\n",
       "      <th></th>\n",
       "      <th>state_po</th>\n",
       "      <th>Dem_cfscore_na</th>\n",
       "      <th>Repub_cfscore_na</th>\n",
       "      <th>Dem_cfscore</th>\n",
       "      <th>Repub_cfscore</th>\n",
       "      <th>state enviro</th>\n",
       "      <th>Natl_enviro</th>\n",
       "      <th>Inflation</th>\n",
       "      <th>Natl_unempl</th>\n",
       "    </tr>\n",
       "  </thead>\n",
       "  <tbody>\n",
       "    <tr>\n",
       "      <th>0</th>\n",
       "      <td>2</td>\n",
       "      <td>2</td>\n",
       "      <td>1</td>\n",
       "      <td>-0.660</td>\n",
       "      <td>0.896</td>\n",
       "      <td>14</td>\n",
       "      <td>1.1</td>\n",
       "      <td>1.26</td>\n",
       "      <td>4.87</td>\n",
       "    </tr>\n",
       "    <tr>\n",
       "      <th>1</th>\n",
       "      <td>1</td>\n",
       "      <td>2</td>\n",
       "      <td>1</td>\n",
       "      <td>-0.660</td>\n",
       "      <td>0.420</td>\n",
       "      <td>12</td>\n",
       "      <td>1.1</td>\n",
       "      <td>1.26</td>\n",
       "      <td>4.87</td>\n",
       "    </tr>\n",
       "    <tr>\n",
       "      <th>2</th>\n",
       "      <td>4</td>\n",
       "      <td>2</td>\n",
       "      <td>1</td>\n",
       "      <td>-0.660</td>\n",
       "      <td>0.762</td>\n",
       "      <td>7</td>\n",
       "      <td>1.1</td>\n",
       "      <td>1.26</td>\n",
       "      <td>4.87</td>\n",
       "    </tr>\n",
       "    <tr>\n",
       "      <th>3</th>\n",
       "      <td>3</td>\n",
       "      <td>2</td>\n",
       "      <td>1</td>\n",
       "      <td>-0.660</td>\n",
       "      <td>0.852</td>\n",
       "      <td>14</td>\n",
       "      <td>1.1</td>\n",
       "      <td>1.26</td>\n",
       "      <td>4.87</td>\n",
       "    </tr>\n",
       "    <tr>\n",
       "      <th>4</th>\n",
       "      <td>5</td>\n",
       "      <td>1</td>\n",
       "      <td>2</td>\n",
       "      <td>-1.418</td>\n",
       "      <td>0.892</td>\n",
       "      <td>-9</td>\n",
       "      <td>1.1</td>\n",
       "      <td>1.26</td>\n",
       "      <td>4.87</td>\n",
       "    </tr>\n",
       "    <tr>\n",
       "      <th>...</th>\n",
       "      <td>...</td>\n",
       "      <td>...</td>\n",
       "      <td>...</td>\n",
       "      <td>...</td>\n",
       "      <td>...</td>\n",
       "      <td>...</td>\n",
       "      <td>...</td>\n",
       "      <td>...</td>\n",
       "      <td>...</td>\n",
       "    </tr>\n",
       "    <tr>\n",
       "      <th>88</th>\n",
       "      <td>39</td>\n",
       "      <td>2</td>\n",
       "      <td>1</td>\n",
       "      <td>-0.660</td>\n",
       "      <td>0.758</td>\n",
       "      <td>16</td>\n",
       "      <td>-3.1</td>\n",
       "      <td>1.23</td>\n",
       "      <td>8.05</td>\n",
       "    </tr>\n",
       "    <tr>\n",
       "      <th>89</th>\n",
       "      <td>41</td>\n",
       "      <td>2</td>\n",
       "      <td>2</td>\n",
       "      <td>-0.660</td>\n",
       "      <td>0.892</td>\n",
       "      <td>28</td>\n",
       "      <td>-3.1</td>\n",
       "      <td>1.23</td>\n",
       "      <td>8.05</td>\n",
       "    </tr>\n",
       "    <tr>\n",
       "      <th>90</th>\n",
       "      <td>42</td>\n",
       "      <td>2</td>\n",
       "      <td>1</td>\n",
       "      <td>-0.660</td>\n",
       "      <td>0.948</td>\n",
       "      <td>17</td>\n",
       "      <td>-3.1</td>\n",
       "      <td>1.23</td>\n",
       "      <td>8.05</td>\n",
       "    </tr>\n",
       "    <tr>\n",
       "      <th>91</th>\n",
       "      <td>44</td>\n",
       "      <td>1</td>\n",
       "      <td>2</td>\n",
       "      <td>-0.408</td>\n",
       "      <td>0.892</td>\n",
       "      <td>-7</td>\n",
       "      <td>-3.1</td>\n",
       "      <td>1.23</td>\n",
       "      <td>8.05</td>\n",
       "    </tr>\n",
       "    <tr>\n",
       "      <th>92</th>\n",
       "      <td>48</td>\n",
       "      <td>2</td>\n",
       "      <td>1</td>\n",
       "      <td>-0.660</td>\n",
       "      <td>0.548</td>\n",
       "      <td>33</td>\n",
       "      <td>-3.1</td>\n",
       "      <td>1.23</td>\n",
       "      <td>8.05</td>\n",
       "    </tr>\n",
       "  </tbody>\n",
       "</table>\n",
       "<p>93 rows × 9 columns</p>\n",
       "</div>"
      ],
      "text/plain": [
       "    state_po  Dem_cfscore_na  Repub_cfscore_na  Dem_cfscore  Repub_cfscore  \\\n",
       "0          2               2                 1       -0.660          0.896   \n",
       "1          1               2                 1       -0.660          0.420   \n",
       "2          4               2                 1       -0.660          0.762   \n",
       "3          3               2                 1       -0.660          0.852   \n",
       "4          5               1                 2       -1.418          0.892   \n",
       "..       ...             ...               ...          ...            ...   \n",
       "88        39               2                 1       -0.660          0.758   \n",
       "89        41               2                 2       -0.660          0.892   \n",
       "90        42               2                 1       -0.660          0.948   \n",
       "91        44               1                 2       -0.408          0.892   \n",
       "92        48               2                 1       -0.660          0.548   \n",
       "\n",
       "    state enviro  Natl_enviro  Inflation  Natl_unempl  \n",
       "0             14          1.1       1.26         4.87  \n",
       "1             12          1.1       1.26         4.87  \n",
       "2              7          1.1       1.26         4.87  \n",
       "3             14          1.1       1.26         4.87  \n",
       "4             -9          1.1       1.26         4.87  \n",
       "..           ...          ...        ...          ...  \n",
       "88            16         -3.1       1.23         8.05  \n",
       "89            28         -3.1       1.23         8.05  \n",
       "90            17         -3.1       1.23         8.05  \n",
       "91            -7         -3.1       1.23         8.05  \n",
       "92            33         -3.1       1.23         8.05  \n",
       "\n",
       "[93 rows x 9 columns]"
      ]
     },
     "execution_count": 107,
     "metadata": {},
     "output_type": "execute_result"
    }
   ],
   "source": [
    "xs = to.train.xs\n",
    "xs"
   ]
  },
  {
   "cell_type": "code",
   "execution_count": 104,
   "id": "a84c6e2c",
   "metadata": {},
   "outputs": [],
   "source": [
    "dtree = load_pickle('dtree_best.pkl')"
   ]
  },
  {
   "cell_type": "code",
   "execution_count": 108,
   "id": "597d094a",
   "metadata": {},
   "outputs": [
    {
     "data": {
      "text/plain": [
       "array([0.61392636, 0.66014414, 0.66014414, 0.61392636, 0.5314384 , 0.54303319, 0.36389214, 0.47045276, 0.54303319, 0.31731838, 0.70709773, 0.36389214, 0.54303319, 0.66014414, 0.61392636, 0.47045276,\n",
       "       0.31731838, 0.54303319, 0.54303319, 0.66014414, 0.31731838, 0.54303319, 0.66014414, 0.66014414, 0.70709773, 0.44090314, 0.47045276, 0.61392636, 0.61392636, 0.70709773, 0.31731838, 0.44090314,\n",
       "       0.32723542, 0.51285582, 0.31731838, 0.36389214, 0.36389214, 0.51285582, 0.31731838, 0.47045276, 0.36389214, 0.31731838, 0.5314384 , 0.36389214, 0.51285582, 0.51285582, 0.47045276, 0.51285582,\n",
       "       0.51285582, 0.51285582, 0.44090314, 0.44090314, 0.31731838, 0.51285582, 0.51285582, 0.51285582, 0.31731838, 0.47045276, 0.47045276, 0.70709773, 0.51285582, 0.44090314, 0.32723542, 0.70709773,\n",
       "       0.70709773, 0.61392636, 0.54303319, 0.31731838, 0.47045276, 0.70709773, 0.31731838, 0.47045276, 0.70709773, 0.70709773, 0.36389214, 0.31731838, 0.36389214, 0.54303319, 0.61392636, 0.70709773,\n",
       "       0.70709773, 0.54303319, 0.31731838, 0.44090314, 0.54303319, 0.70709773, 0.44090314, 0.31731838, 0.66014414, 0.70709773, 0.70709773, 0.44090314, 0.70709773])"
      ]
     },
     "execution_count": 108,
     "metadata": {},
     "output_type": "execute_result"
    }
   ],
   "source": [
    "dtree.predict(xs)"
   ]
  },
  {
   "cell_type": "code",
   "execution_count": 110,
   "id": "83030add",
   "metadata": {},
   "outputs": [],
   "source": [
    "def r_mse(pred,y): \n",
    "    return round(math.sqrt(((pred-y)**2).mean()), 6)\n",
    "def model_rmse(model, xs, y): \n",
    "    return r_mse(model.predict(xs), y)"
   ]
  },
  {
   "cell_type": "code",
   "execution_count": 111,
   "id": "faf89bfb",
   "metadata": {},
   "outputs": [
    {
     "data": {
      "text/plain": [
       "0.092259"
      ]
     },
     "execution_count": 111,
     "metadata": {},
     "output_type": "execute_result"
    }
   ],
   "source": [
    "model_rmse(dtree, xs, to.train.y)"
   ]
  },
  {
   "cell_type": "markdown",
   "id": "18e81558",
   "metadata": {},
   "source": [
    "<font size = 6 > Random Forest </font>"
   ]
  },
  {
   "cell_type": "code",
   "execution_count": 112,
   "id": "579d99d3",
   "metadata": {},
   "outputs": [],
   "source": [
    "rf = load_pickle('rf_best.pkl')"
   ]
  },
  {
   "cell_type": "code",
   "execution_count": 113,
   "id": "c7907903",
   "metadata": {},
   "outputs": [
    {
     "data": {
      "text/plain": [
       "array([0.62342677, 0.61806728, 0.58423498, 0.60427573, 0.39936042, 0.44604449, 0.36702377, 0.40296633, 0.54674894, 0.32894886, 0.67788547, 0.3639471 , 0.52315989, 0.52010879, 0.60889333, 0.45584297,\n",
       "       0.3248266 , 0.523943  , 0.48030314, 0.484631  , 0.34316249, 0.51833058, 0.60351328, 0.53242675, 0.59346519, 0.41986867, 0.42532055, 0.59904259, 0.59008714, 0.67236291, 0.33721084, 0.42074704,\n",
       "       0.41665032, 0.54498458, 0.38148958, 0.34310731, 0.34310731, 0.40716843, 0.32960836, 0.36129657, 0.40572763, 0.30849606, 0.34268878, 0.39886709, 0.43031632, 0.58606586, 0.36129657, 0.50719583,\n",
       "       0.56941056, 0.41402998, 0.4042756 , 0.40986769, 0.33447617, 0.50593963, 0.50648984, 0.45916921, 0.33095054, 0.47970175, 0.42787636, 0.63707717, 0.41659368, 0.40972751, 0.47885735, 0.60984492,\n",
       "       0.64701286, 0.6353948 , 0.48502116, 0.32000531, 0.54714629, 0.66547855, 0.32304228, 0.5772177 , 0.68355145, 0.68064448, 0.47942153, 0.33522129, 0.38176114, 0.49120328, 0.6202754 , 0.6185994 ,\n",
       "       0.57543995, 0.46607768, 0.34426142, 0.37513373, 0.5233695 , 0.67671363, 0.36693585, 0.32418064, 0.62265675, 0.67881328, 0.6700685 , 0.36120131, 0.6799989 ])"
      ]
     },
     "execution_count": 113,
     "metadata": {},
     "output_type": "execute_result"
    }
   ],
   "source": [
    "rf.predict(xs)"
   ]
  },
  {
   "cell_type": "code",
   "execution_count": 115,
   "id": "f045159f",
   "metadata": {},
   "outputs": [
    {
     "data": {
      "text/plain": [
       "0.08289"
      ]
     },
     "execution_count": 115,
     "metadata": {},
     "output_type": "execute_result"
    }
   ],
   "source": [
    "model_rmse(rf, xs, to.train.y)"
   ]
  },
  {
   "cell_type": "markdown",
   "id": "cc3a5ff3",
   "metadata": {},
   "source": [
    "<font size = 6> Neural Net</font>"
   ]
  },
  {
   "cell_type": "code",
   "execution_count": 6,
   "id": "57208e9d",
   "metadata": {},
   "outputs": [],
   "source": [
    "test_set = pd.read_csv('..\\\\prepared_data\\\\test_set_v1.csv')"
   ]
  },
  {
   "cell_type": "code",
   "execution_count": 8,
   "id": "cd0df246",
   "metadata": {},
   "outputs": [],
   "source": [
    "test_set.drop(columns=['year','Dem_candidate','Repub_candidate','state'],inplace=True)\n",
    "test_set_y = test_set.loc[:,'Repub%of_two-party_vote']\n",
    "test_set_xs = test_set.drop('Repub%of_two-party_vote', axis=1)"
   ]
  },
  {
   "cell_type": "code",
   "execution_count": 13,
   "id": "7cd3d558",
   "metadata": {},
   "outputs": [],
   "source": [
    "best_net = load_pickle('0.076_error_neural_net.pkl')"
   ]
  },
  {
   "cell_type": "code",
   "execution_count": 14,
   "id": "cb1cae7f",
   "metadata": {},
   "outputs": [],
   "source": [
    "# dataloader specifically for inference\n",
    "dl = best_net.dls.test_dl(test_set)"
   ]
  },
  {
   "cell_type": "code",
   "execution_count": 15,
   "id": "045a58e8",
   "metadata": {},
   "outputs": [
    {
     "data": {
      "text/html": [
       "\n",
       "<style>\n",
       "    /* Turns off some styling */\n",
       "    progress {\n",
       "        /* gets rid of default border in Firefox and Opera. */\n",
       "        border: none;\n",
       "        /* Needs to be in here for Safari polyfill so background images work as expected. */\n",
       "        background-size: auto;\n",
       "    }\n",
       "    progress:not([value]), progress:not([value])::-webkit-progress-bar {\n",
       "        background: repeating-linear-gradient(45deg, #7e7e7e, #7e7e7e 10px, #5c5c5c 10px, #5c5c5c 20px);\n",
       "    }\n",
       "    .progress-bar-interrupted, .progress-bar-interrupted::-webkit-progress-bar {\n",
       "        background: #F44336;\n",
       "    }\n",
       "</style>\n"
      ],
      "text/plain": [
       "<IPython.core.display.HTML object>"
      ]
     },
     "metadata": {},
     "output_type": "display_data"
    },
    {
     "data": {
      "text/html": [],
      "text/plain": [
       "<IPython.core.display.HTML object>"
      ]
     },
     "metadata": {},
     "output_type": "display_data"
    }
   ],
   "source": [
    "preds = best_net.get_preds(dl=dl)\n",
    "preds_series = pd.DataFrame(preds[0].numpy())\n",
    "preds_series = preds_series.iloc[:,0]"
   ]
  },
  {
   "cell_type": "code",
   "execution_count": 16,
   "id": "a2411944",
   "metadata": {},
   "outputs": [],
   "source": [
    "def test_set_r_mse(pred,y): # new rmse function using numpy's swrt. Previous one used math.sqrt, which threw errors\n",
    "    return round(np.sqrt(((pred-y)**2).mean()), 6)"
   ]
  },
  {
   "cell_type": "code",
   "execution_count": 17,
   "id": "e4ea20bb",
   "metadata": {},
   "outputs": [
    {
     "data": {
      "text/plain": [
       "0.121142"
      ]
     },
     "execution_count": 17,
     "metadata": {},
     "output_type": "execute_result"
    }
   ],
   "source": [
    "test_set_r_mse(preds_series,test_set_y)"
   ]
  },
  {
   "cell_type": "markdown",
   "id": "daa70803",
   "metadata": {},
   "source": [
    "This performance is unsatisfactory, and this is the best neural net, so I will revisit my models and try using XGBoost, Ensembling, and Data Augmentation to improve performance."
   ]
  }
 ],
 "metadata": {
  "kernelspec": {
   "display_name": "Env",
   "language": "python",
   "name": "env"
  },
  "language_info": {
   "codemirror_mode": {
    "name": "ipython",
    "version": 3
   },
   "file_extension": ".py",
   "mimetype": "text/x-python",
   "name": "python",
   "nbconvert_exporter": "python",
   "pygments_lexer": "ipython3",
   "version": "3.9.5"
  }
 },
 "nbformat": 4,
 "nbformat_minor": 5
}
